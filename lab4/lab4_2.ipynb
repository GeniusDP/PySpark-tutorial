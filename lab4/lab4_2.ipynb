{
 "cells": [
  {
   "cell_type": "markdown",
   "metadata": {},
   "source": [
    "<h2>Lab4: Об’єднання потоків в Spark Streaming, завдання 2</h2>"
   ]
  },
  {
   "cell_type": "code",
   "execution_count": null,
   "metadata": {},
   "outputs": [],
   "source": [
    "from pyspark.sql import SparkSession\n",
    "from pyspark.sql.functions import col, expr\n",
    "from pyspark.sql.types import StringType, StructType, StructField, IntegerType, DoubleType, TimestampType   \n",
    "import os\n",
    "\n",
    "os.environ['SPARK_HOME'] = \"/home/zaranik/.sdkman/candidates/spark/current\"\n",
    "os.environ['PYSPARK_DRIVER_PYTHON'] = 'jupyter'\n",
    "os.environ['PYSPARK_DRIVER_PYTHON_OPTS'] = 'lab'\n",
    "os.environ['PYSPARK_PYTHON'] = 'python3'"
   ]
  },
  {
   "cell_type": "markdown",
   "metadata": {},
   "source": [
    "Створення Spark сессії"
   ]
  },
  {
   "cell_type": "code",
   "execution_count": null,
   "metadata": {},
   "outputs": [],
   "source": [
    "spark = SparkSession.builder.appName(\"RunningCountExample\").getOrCreate()\n",
    "spark"
   ]
  },
  {
   "cell_type": "markdown",
   "metadata": {},
   "source": [
    "Опис схеми даних"
   ]
  },
  {
   "cell_type": "code",
   "execution_count": null,
   "metadata": {},
   "outputs": [],
   "source": [
    "schema = StructType([\n",
    "    StructField(\"id\", IntegerType(), True),\n",
    "    StructField(\"entity\", StringType(), True),\n",
    "    StructField(\"code\", StringType(), True),\n",
    "    StructField(\"year\", IntegerType(), True),\n",
    "    StructField(\"human_food\", DoubleType(), True),\n",
    "    StructField(\"animal_feed\", DoubleType(), True),\n",
    "    StructField(\"processed\", DoubleType(), True),\n",
    "    StructField(\"timestamp\", StringType(), True)\n",
    "])"
   ]
  },
  {
   "cell_type": "markdown",
   "metadata": {},
   "source": [
    "Читання даних із JSON-потоків"
   ]
  },
  {
   "cell_type": "code",
   "execution_count": null,
   "metadata": {},
   "outputs": [],
   "source": [
    "df_from_stream_1 = spark.readStream.schema(schema).json(\"./data_1/\")\n",
    "df_from_stream_1 = df_from_stream_1.withColumn(\"timestamp\", col(\"timestamp\").cast(TimestampType()))"
   ]
  },
  {
   "cell_type": "markdown",
   "metadata": {},
   "source": [
    "У вихідній структурі даних стовпець timestamp має тип StringType, і щоб Spark міг коректно інтерпретувати значення як тимчасові мітки (timestamp), він наводиться типу TimestampType.\n",
    "\n",
    "Це необхідно для виконання операцій, пов'язаних з часом, наприклад, щоб встановити водяний знак (watermark) і уможливити join (об'єднання) з використанням інтервалу часу."
   ]
  },
  {
   "cell_type": "code",
   "execution_count": null,
   "metadata": {},
   "outputs": [],
   "source": [
    "df_from_stream_2 = spark.readStream.schema(schema).json(\"./data_2/\")\n",
    "df_from_stream_2 = df_from_stream_2.withColumn(\"timestamp\", col(\"timestamp\").cast(TimestampType()))\n",
    "\n",
    "df_from_stream_1 = df_from_stream_1.withWatermark(\"timestamp\", \"2 minutes\")\n",
    "df_from_stream_2 = df_from_stream_2.withWatermark(\"timestamp\", \"2 minutes\")"
   ]
  },
  {
   "cell_type": "markdown",
   "metadata": {},
   "source": [
    "Об’єднання двох DataFrame створених на основі потокових даних:"
   ]
  },
  {
   "cell_type": "code",
   "execution_count": null,
   "metadata": {},
   "outputs": [],
   "source": [
    "result_df = df_from_stream_1.alias(\"df_from_stream_1\") \\\n",
    "    .join(df_from_stream_2.alias(\"df_from_stream_2\"),\n",
    "          (col(\"df_from_stream_1.id\") == col(\"df_from_stream_2.id\")) &\n",
    "          (col(\"df_from_stream_1.timestamp\").between(\n",
    "              col(\"df_from_stream_2.timestamp\") - expr(\"INTERVAL 1 MINUTE\"),\n",
    "              col(\"df_from_stream_2.timestamp\") + expr(\"INTERVAL 1 MINUTE\")\n",
    "          ))\n",
    "    )\n"
   ]
  },
  {
   "cell_type": "markdown",
   "metadata": {},
   "source": [
    "Запис у файл"
   ]
  },
  {
   "cell_type": "code",
   "execution_count": null,
   "metadata": {},
   "outputs": [],
   "source": [
    "query = result_df.writeStream.outputMode(\"append\") \\\n",
    "    .format(\"json\") \\\n",
    "    .option(\"path\", \"./output_task2\") \\\n",
    "    .option(\"checkpointLocation\",  \"./output_task2/checkpoints/\") \\\n",
    "    .start()\n",
    "\n"
   ]
  },
  {
   "cell_type": "markdown",
   "metadata": {},
   "source": [
    "Чекаємо на завершення процесу"
   ]
  },
  {
   "cell_type": "code",
   "execution_count": null,
   "metadata": {},
   "outputs": [],
   "source": [
    "query.awaitTermination()"
   ]
  },
  {
   "cell_type": "markdown",
   "metadata": {},
   "source": [
    "Закриваємо сессію"
   ]
  },
  {
   "cell_type": "code",
   "execution_count": null,
   "metadata": {},
   "outputs": [],
   "source": [
    "spark.stop()"
   ]
  }
 ],
 "metadata": {
  "language_info": {
   "name": "python"
  }
 },
 "nbformat": 4,
 "nbformat_minor": 2
}
